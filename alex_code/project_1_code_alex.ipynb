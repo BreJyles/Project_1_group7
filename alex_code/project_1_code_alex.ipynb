{
 "cells": [
  {
   "cell_type": "code",
   "execution_count": 9,
   "id": "c0ec697c-9155-432d-a80a-40caa7d5efe0",
   "metadata": {},
   "outputs": [],
   "source": [
    "#importing libraries\n",
    "import matplotlib.pyplot as plt\n",
    "import pandas as pd\n",
    "import numpy as np\n",
    "import scipy.stats as st\n",
    "from scipy.stats import linregress"
   ]
  },
  {
   "cell_type": "code",
   "execution_count": 10,
   "id": "8b7c5e1f-c524-47f4-a0d1-24609fc600b6",
   "metadata": {},
   "outputs": [],
   "source": [
    "#loading the data\n",
    "online_shopping_path = \"../starter_code/online_shopping.csv\""
   ]
  },
  {
   "cell_type": "code",
   "execution_count": 11,
   "id": "8a98b672-3c2e-44f5-abf0-5fb8f19175c7",
   "metadata": {},
   "outputs": [],
   "source": [
    "#importing the .csv\n",
    "shopping_data = pd.read_csv(online_shopping_path)\n"
   ]
  },
  {
   "cell_type": "code",
   "execution_count": 12,
   "id": "9a31863f-fb8c-4692-9c6b-86a878db986d",
   "metadata": {},
   "outputs": [
    {
     "data": {
      "text/html": [
       "<div>\n",
       "<style scoped>\n",
       "    .dataframe tbody tr th:only-of-type {\n",
       "        vertical-align: middle;\n",
       "    }\n",
       "\n",
       "    .dataframe tbody tr th {\n",
       "        vertical-align: top;\n",
       "    }\n",
       "\n",
       "    .dataframe thead th {\n",
       "        text-align: right;\n",
       "    }\n",
       "</style>\n",
       "<table border=\"1\" class=\"dataframe\">\n",
       "  <thead>\n",
       "    <tr style=\"text-align: right;\">\n",
       "      <th></th>\n",
       "      <th>Unnamed: 0</th>\n",
       "      <th>CustomerID</th>\n",
       "      <th>Gender</th>\n",
       "      <th>Location</th>\n",
       "      <th>Tenure_Months</th>\n",
       "      <th>Transaction_ID</th>\n",
       "      <th>Transaction_Date</th>\n",
       "      <th>Product_SKU</th>\n",
       "      <th>Product_Description</th>\n",
       "      <th>Product_Category</th>\n",
       "      <th>...</th>\n",
       "      <th>Avg_Price</th>\n",
       "      <th>Delivery_Charges</th>\n",
       "      <th>Coupon_Status</th>\n",
       "      <th>GST</th>\n",
       "      <th>Date</th>\n",
       "      <th>Offline_Spend</th>\n",
       "      <th>Online_Spend</th>\n",
       "      <th>Month</th>\n",
       "      <th>Coupon_Code</th>\n",
       "      <th>Discount_pct</th>\n",
       "    </tr>\n",
       "  </thead>\n",
       "  <tbody>\n",
       "    <tr>\n",
       "      <th>0</th>\n",
       "      <td>0</td>\n",
       "      <td>17850.0</td>\n",
       "      <td>M</td>\n",
       "      <td>Chicago</td>\n",
       "      <td>12.0</td>\n",
       "      <td>16679.0</td>\n",
       "      <td>2019-01-01</td>\n",
       "      <td>GGOENEBJ079499</td>\n",
       "      <td>Nest Learning Thermostat 3rd Gen-USA - Stainle...</td>\n",
       "      <td>Nest-USA</td>\n",
       "      <td>...</td>\n",
       "      <td>153.71</td>\n",
       "      <td>6.5</td>\n",
       "      <td>Used</td>\n",
       "      <td>0.1</td>\n",
       "      <td>1/1/2019</td>\n",
       "      <td>4500.0</td>\n",
       "      <td>2424.5</td>\n",
       "      <td>1</td>\n",
       "      <td>ELEC10</td>\n",
       "      <td>10.0</td>\n",
       "    </tr>\n",
       "    <tr>\n",
       "      <th>1</th>\n",
       "      <td>1</td>\n",
       "      <td>17850.0</td>\n",
       "      <td>M</td>\n",
       "      <td>Chicago</td>\n",
       "      <td>12.0</td>\n",
       "      <td>16680.0</td>\n",
       "      <td>2019-01-01</td>\n",
       "      <td>GGOENEBJ079499</td>\n",
       "      <td>Nest Learning Thermostat 3rd Gen-USA - Stainle...</td>\n",
       "      <td>Nest-USA</td>\n",
       "      <td>...</td>\n",
       "      <td>153.71</td>\n",
       "      <td>6.5</td>\n",
       "      <td>Used</td>\n",
       "      <td>0.1</td>\n",
       "      <td>1/1/2019</td>\n",
       "      <td>4500.0</td>\n",
       "      <td>2424.5</td>\n",
       "      <td>1</td>\n",
       "      <td>ELEC10</td>\n",
       "      <td>10.0</td>\n",
       "    </tr>\n",
       "    <tr>\n",
       "      <th>2</th>\n",
       "      <td>2</td>\n",
       "      <td>17850.0</td>\n",
       "      <td>M</td>\n",
       "      <td>Chicago</td>\n",
       "      <td>12.0</td>\n",
       "      <td>16696.0</td>\n",
       "      <td>2019-01-01</td>\n",
       "      <td>GGOENEBQ078999</td>\n",
       "      <td>Nest Cam Outdoor Security Camera - USA</td>\n",
       "      <td>Nest-USA</td>\n",
       "      <td>...</td>\n",
       "      <td>122.77</td>\n",
       "      <td>6.5</td>\n",
       "      <td>Not Used</td>\n",
       "      <td>0.1</td>\n",
       "      <td>1/1/2019</td>\n",
       "      <td>4500.0</td>\n",
       "      <td>2424.5</td>\n",
       "      <td>1</td>\n",
       "      <td>ELEC10</td>\n",
       "      <td>10.0</td>\n",
       "    </tr>\n",
       "    <tr>\n",
       "      <th>3</th>\n",
       "      <td>3</td>\n",
       "      <td>17850.0</td>\n",
       "      <td>M</td>\n",
       "      <td>Chicago</td>\n",
       "      <td>12.0</td>\n",
       "      <td>16699.0</td>\n",
       "      <td>2019-01-01</td>\n",
       "      <td>GGOENEBQ079099</td>\n",
       "      <td>Nest Protect Smoke + CO White Battery Alarm-USA</td>\n",
       "      <td>Nest-USA</td>\n",
       "      <td>...</td>\n",
       "      <td>81.50</td>\n",
       "      <td>6.5</td>\n",
       "      <td>Clicked</td>\n",
       "      <td>0.1</td>\n",
       "      <td>1/1/2019</td>\n",
       "      <td>4500.0</td>\n",
       "      <td>2424.5</td>\n",
       "      <td>1</td>\n",
       "      <td>ELEC10</td>\n",
       "      <td>10.0</td>\n",
       "    </tr>\n",
       "    <tr>\n",
       "      <th>4</th>\n",
       "      <td>4</td>\n",
       "      <td>17850.0</td>\n",
       "      <td>M</td>\n",
       "      <td>Chicago</td>\n",
       "      <td>12.0</td>\n",
       "      <td>16700.0</td>\n",
       "      <td>2019-01-01</td>\n",
       "      <td>GGOENEBJ079499</td>\n",
       "      <td>Nest Learning Thermostat 3rd Gen-USA - Stainle...</td>\n",
       "      <td>Nest-USA</td>\n",
       "      <td>...</td>\n",
       "      <td>153.71</td>\n",
       "      <td>6.5</td>\n",
       "      <td>Clicked</td>\n",
       "      <td>0.1</td>\n",
       "      <td>1/1/2019</td>\n",
       "      <td>4500.0</td>\n",
       "      <td>2424.5</td>\n",
       "      <td>1</td>\n",
       "      <td>ELEC10</td>\n",
       "      <td>10.0</td>\n",
       "    </tr>\n",
       "  </tbody>\n",
       "</table>\n",
       "<p>5 rows × 21 columns</p>\n",
       "</div>"
      ],
      "text/plain": [
       "   Unnamed: 0  CustomerID Gender Location  Tenure_Months  Transaction_ID  \\\n",
       "0           0     17850.0      M  Chicago           12.0         16679.0   \n",
       "1           1     17850.0      M  Chicago           12.0         16680.0   \n",
       "2           2     17850.0      M  Chicago           12.0         16696.0   \n",
       "3           3     17850.0      M  Chicago           12.0         16699.0   \n",
       "4           4     17850.0      M  Chicago           12.0         16700.0   \n",
       "\n",
       "  Transaction_Date     Product_SKU  \\\n",
       "0       2019-01-01  GGOENEBJ079499   \n",
       "1       2019-01-01  GGOENEBJ079499   \n",
       "2       2019-01-01  GGOENEBQ078999   \n",
       "3       2019-01-01  GGOENEBQ079099   \n",
       "4       2019-01-01  GGOENEBJ079499   \n",
       "\n",
       "                                 Product_Description Product_Category  ...  \\\n",
       "0  Nest Learning Thermostat 3rd Gen-USA - Stainle...         Nest-USA  ...   \n",
       "1  Nest Learning Thermostat 3rd Gen-USA - Stainle...         Nest-USA  ...   \n",
       "2             Nest Cam Outdoor Security Camera - USA         Nest-USA  ...   \n",
       "3    Nest Protect Smoke + CO White Battery Alarm-USA         Nest-USA  ...   \n",
       "4  Nest Learning Thermostat 3rd Gen-USA - Stainle...         Nest-USA  ...   \n",
       "\n",
       "   Avg_Price  Delivery_Charges  Coupon_Status  GST      Date Offline_Spend  \\\n",
       "0     153.71               6.5           Used  0.1  1/1/2019        4500.0   \n",
       "1     153.71               6.5           Used  0.1  1/1/2019        4500.0   \n",
       "2     122.77               6.5       Not Used  0.1  1/1/2019        4500.0   \n",
       "3      81.50               6.5        Clicked  0.1  1/1/2019        4500.0   \n",
       "4     153.71               6.5        Clicked  0.1  1/1/2019        4500.0   \n",
       "\n",
       "   Online_Spend  Month  Coupon_Code Discount_pct  \n",
       "0        2424.5      1       ELEC10         10.0  \n",
       "1        2424.5      1       ELEC10         10.0  \n",
       "2        2424.5      1       ELEC10         10.0  \n",
       "3        2424.5      1       ELEC10         10.0  \n",
       "4        2424.5      1       ELEC10         10.0  \n",
       "\n",
       "[5 rows x 21 columns]"
      ]
     },
     "execution_count": 12,
     "metadata": {},
     "output_type": "execute_result"
    }
   ],
   "source": [
    "#previewing the data\n",
    "shopping_data.head()"
   ]
  },
  {
   "cell_type": "code",
   "execution_count": 13,
   "id": "1306f7cc-5c45-4cbe-ab35-025e62ca028b",
   "metadata": {},
   "outputs": [
    {
     "name": "stdout",
     "output_type": "stream",
     "text": [
      "<class 'pandas.core.frame.DataFrame'>\n",
      "RangeIndex: 52955 entries, 0 to 52954\n",
      "Data columns (total 21 columns):\n",
      " #   Column               Non-Null Count  Dtype  \n",
      "---  ------               --------------  -----  \n",
      " 0   Unnamed: 0           52955 non-null  int64  \n",
      " 1   CustomerID           52924 non-null  float64\n",
      " 2   Gender               52924 non-null  object \n",
      " 3   Location             52924 non-null  object \n",
      " 4   Tenure_Months        52924 non-null  float64\n",
      " 5   Transaction_ID       52924 non-null  float64\n",
      " 6   Transaction_Date     52924 non-null  object \n",
      " 7   Product_SKU          52924 non-null  object \n",
      " 8   Product_Description  52924 non-null  object \n",
      " 9   Product_Category     52955 non-null  object \n",
      " 10  Quantity             52924 non-null  float64\n",
      " 11  Avg_Price            52924 non-null  float64\n",
      " 12  Delivery_Charges     52924 non-null  float64\n",
      " 13  Coupon_Status        52924 non-null  object \n",
      " 14  GST                  52924 non-null  float64\n",
      " 15  Date                 52924 non-null  object \n",
      " 16  Offline_Spend        52924 non-null  float64\n",
      " 17  Online_Spend         52924 non-null  float64\n",
      " 18  Month                52955 non-null  int64  \n",
      " 19  Coupon_Code          52555 non-null  object \n",
      " 20  Discount_pct         52555 non-null  float64\n",
      "dtypes: float64(10), int64(2), object(9)\n",
      "memory usage: 8.5+ MB\n"
     ]
    }
   ],
   "source": [
    "shopping_data.info() "
   ]
  },
  {
   "cell_type": "code",
   "execution_count": 22,
   "id": "9475bc7d-86a8-4964-99ea-99093a1bea30",
   "metadata": {},
   "outputs": [
    {
     "name": "stdout",
     "output_type": "stream",
     "text": [
      "Index(['Unnamed: 0', 'CustomerID', 'Gender', 'Location', 'Tenure_Months',\n",
      "       'Transaction_ID', 'Transaction_Date', 'Product_SKU',\n",
      "       'Product_Description', 'Product_Category', 'Quantity', 'Avg_Price',\n",
      "       'Delivery_Charges', 'Coupon_Status', 'GST', 'Offline_Spend',\n",
      "       'Online_Spend', 'Month', 'Coupon_Code', 'Discount_pct'],\n",
      "      dtype='object')\n"
     ]
    }
   ],
   "source": [
    "print(shopping_data.columns)"
   ]
  },
  {
   "cell_type": "code",
   "execution_count": 23,
   "id": "0e6478bb-48d7-4cbc-bd17-c9bbf50cff48",
   "metadata": {},
   "outputs": [
    {
     "data": {
      "text/html": [
       "<div>\n",
       "<style scoped>\n",
       "    .dataframe tbody tr th:only-of-type {\n",
       "        vertical-align: middle;\n",
       "    }\n",
       "\n",
       "    .dataframe tbody tr th {\n",
       "        vertical-align: top;\n",
       "    }\n",
       "\n",
       "    .dataframe thead th {\n",
       "        text-align: right;\n",
       "    }\n",
       "</style>\n",
       "<table border=\"1\" class=\"dataframe\">\n",
       "  <thead>\n",
       "    <tr style=\"text-align: right;\">\n",
       "      <th></th>\n",
       "      <th>CustomerID</th>\n",
       "      <th>Gender</th>\n",
       "      <th>Location</th>\n",
       "      <th>Tenure_Months</th>\n",
       "      <th>Transaction_ID</th>\n",
       "      <th>Transaction_Date</th>\n",
       "      <th>Product_SKU</th>\n",
       "      <th>Product_Description</th>\n",
       "      <th>Product_Category</th>\n",
       "      <th>Quantity</th>\n",
       "      <th>Avg_Price</th>\n",
       "      <th>Delivery_Charges</th>\n",
       "      <th>Coupon_Status</th>\n",
       "      <th>GST</th>\n",
       "      <th>Offline_Spend</th>\n",
       "      <th>Online_Spend</th>\n",
       "      <th>Month</th>\n",
       "      <th>Coupon_Code</th>\n",
       "      <th>Discount_pct</th>\n",
       "    </tr>\n",
       "  </thead>\n",
       "  <tbody>\n",
       "    <tr>\n",
       "      <th>0</th>\n",
       "      <td>17850.0</td>\n",
       "      <td>M</td>\n",
       "      <td>Chicago</td>\n",
       "      <td>12.0</td>\n",
       "      <td>16679.0</td>\n",
       "      <td>2019-01-01</td>\n",
       "      <td>GGOENEBJ079499</td>\n",
       "      <td>Nest Learning Thermostat 3rd Gen-USA - Stainle...</td>\n",
       "      <td>Nest-USA</td>\n",
       "      <td>1.0</td>\n",
       "      <td>153.71</td>\n",
       "      <td>6.5</td>\n",
       "      <td>Used</td>\n",
       "      <td>0.1</td>\n",
       "      <td>4500.0</td>\n",
       "      <td>2424.5</td>\n",
       "      <td>1</td>\n",
       "      <td>ELEC10</td>\n",
       "      <td>10.0</td>\n",
       "    </tr>\n",
       "    <tr>\n",
       "      <th>1</th>\n",
       "      <td>17850.0</td>\n",
       "      <td>M</td>\n",
       "      <td>Chicago</td>\n",
       "      <td>12.0</td>\n",
       "      <td>16680.0</td>\n",
       "      <td>2019-01-01</td>\n",
       "      <td>GGOENEBJ079499</td>\n",
       "      <td>Nest Learning Thermostat 3rd Gen-USA - Stainle...</td>\n",
       "      <td>Nest-USA</td>\n",
       "      <td>1.0</td>\n",
       "      <td>153.71</td>\n",
       "      <td>6.5</td>\n",
       "      <td>Used</td>\n",
       "      <td>0.1</td>\n",
       "      <td>4500.0</td>\n",
       "      <td>2424.5</td>\n",
       "      <td>1</td>\n",
       "      <td>ELEC10</td>\n",
       "      <td>10.0</td>\n",
       "    </tr>\n",
       "    <tr>\n",
       "      <th>2</th>\n",
       "      <td>17850.0</td>\n",
       "      <td>M</td>\n",
       "      <td>Chicago</td>\n",
       "      <td>12.0</td>\n",
       "      <td>16696.0</td>\n",
       "      <td>2019-01-01</td>\n",
       "      <td>GGOENEBQ078999</td>\n",
       "      <td>Nest Cam Outdoor Security Camera - USA</td>\n",
       "      <td>Nest-USA</td>\n",
       "      <td>2.0</td>\n",
       "      <td>122.77</td>\n",
       "      <td>6.5</td>\n",
       "      <td>Not Used</td>\n",
       "      <td>0.1</td>\n",
       "      <td>4500.0</td>\n",
       "      <td>2424.5</td>\n",
       "      <td>1</td>\n",
       "      <td>ELEC10</td>\n",
       "      <td>10.0</td>\n",
       "    </tr>\n",
       "    <tr>\n",
       "      <th>3</th>\n",
       "      <td>17850.0</td>\n",
       "      <td>M</td>\n",
       "      <td>Chicago</td>\n",
       "      <td>12.0</td>\n",
       "      <td>16699.0</td>\n",
       "      <td>2019-01-01</td>\n",
       "      <td>GGOENEBQ079099</td>\n",
       "      <td>Nest Protect Smoke + CO White Battery Alarm-USA</td>\n",
       "      <td>Nest-USA</td>\n",
       "      <td>1.0</td>\n",
       "      <td>81.50</td>\n",
       "      <td>6.5</td>\n",
       "      <td>Clicked</td>\n",
       "      <td>0.1</td>\n",
       "      <td>4500.0</td>\n",
       "      <td>2424.5</td>\n",
       "      <td>1</td>\n",
       "      <td>ELEC10</td>\n",
       "      <td>10.0</td>\n",
       "    </tr>\n",
       "    <tr>\n",
       "      <th>4</th>\n",
       "      <td>17850.0</td>\n",
       "      <td>M</td>\n",
       "      <td>Chicago</td>\n",
       "      <td>12.0</td>\n",
       "      <td>16700.0</td>\n",
       "      <td>2019-01-01</td>\n",
       "      <td>GGOENEBJ079499</td>\n",
       "      <td>Nest Learning Thermostat 3rd Gen-USA - Stainle...</td>\n",
       "      <td>Nest-USA</td>\n",
       "      <td>1.0</td>\n",
       "      <td>153.71</td>\n",
       "      <td>6.5</td>\n",
       "      <td>Clicked</td>\n",
       "      <td>0.1</td>\n",
       "      <td>4500.0</td>\n",
       "      <td>2424.5</td>\n",
       "      <td>1</td>\n",
       "      <td>ELEC10</td>\n",
       "      <td>10.0</td>\n",
       "    </tr>\n",
       "  </tbody>\n",
       "</table>\n",
       "</div>"
      ],
      "text/plain": [
       "   CustomerID Gender Location  Tenure_Months  Transaction_ID Transaction_Date  \\\n",
       "0     17850.0      M  Chicago           12.0         16679.0       2019-01-01   \n",
       "1     17850.0      M  Chicago           12.0         16680.0       2019-01-01   \n",
       "2     17850.0      M  Chicago           12.0         16696.0       2019-01-01   \n",
       "3     17850.0      M  Chicago           12.0         16699.0       2019-01-01   \n",
       "4     17850.0      M  Chicago           12.0         16700.0       2019-01-01   \n",
       "\n",
       "      Product_SKU                                Product_Description  \\\n",
       "0  GGOENEBJ079499  Nest Learning Thermostat 3rd Gen-USA - Stainle...   \n",
       "1  GGOENEBJ079499  Nest Learning Thermostat 3rd Gen-USA - Stainle...   \n",
       "2  GGOENEBQ078999             Nest Cam Outdoor Security Camera - USA   \n",
       "3  GGOENEBQ079099    Nest Protect Smoke + CO White Battery Alarm-USA   \n",
       "4  GGOENEBJ079499  Nest Learning Thermostat 3rd Gen-USA - Stainle...   \n",
       "\n",
       "  Product_Category  Quantity  Avg_Price  Delivery_Charges Coupon_Status  GST  \\\n",
       "0         Nest-USA       1.0     153.71               6.5          Used  0.1   \n",
       "1         Nest-USA       1.0     153.71               6.5          Used  0.1   \n",
       "2         Nest-USA       2.0     122.77               6.5      Not Used  0.1   \n",
       "3         Nest-USA       1.0      81.50               6.5       Clicked  0.1   \n",
       "4         Nest-USA       1.0     153.71               6.5       Clicked  0.1   \n",
       "\n",
       "   Offline_Spend  Online_Spend  Month Coupon_Code  Discount_pct  \n",
       "0         4500.0        2424.5      1      ELEC10          10.0  \n",
       "1         4500.0        2424.5      1      ELEC10          10.0  \n",
       "2         4500.0        2424.5      1      ELEC10          10.0  \n",
       "3         4500.0        2424.5      1      ELEC10          10.0  \n",
       "4         4500.0        2424.5      1      ELEC10          10.0  "
      ]
     },
     "execution_count": 23,
     "metadata": {},
     "output_type": "execute_result"
    }
   ],
   "source": [
    "clean_shopping_df = shopping_data.drop('Unnamed: 0', axis=1, inplace=False)\n",
    "clean_shopping_df.head()"
   ]
  },
  {
   "cell_type": "code",
   "execution_count": 24,
   "id": "8b8df561-bee5-47ce-853a-4e1af7f1bf73",
   "metadata": {},
   "outputs": [
    {
     "name": "stdout",
     "output_type": "stream",
     "text": [
      "<class 'pandas.core.frame.DataFrame'>\n",
      "Index: 52524 entries, 0 to 52923\n",
      "Data columns (total 19 columns):\n",
      " #   Column               Non-Null Count  Dtype  \n",
      "---  ------               --------------  -----  \n",
      " 0   CustomerID           52524 non-null  float64\n",
      " 1   Gender               52524 non-null  object \n",
      " 2   Location             52524 non-null  object \n",
      " 3   Tenure_Months        52524 non-null  float64\n",
      " 4   Transaction_ID       52524 non-null  float64\n",
      " 5   Transaction_Date     52524 non-null  object \n",
      " 6   Product_SKU          52524 non-null  object \n",
      " 7   Product_Description  52524 non-null  object \n",
      " 8   Product_Category     52524 non-null  object \n",
      " 9   Quantity             52524 non-null  float64\n",
      " 10  Avg_Price            52524 non-null  float64\n",
      " 11  Delivery_Charges     52524 non-null  float64\n",
      " 12  Coupon_Status        52524 non-null  object \n",
      " 13  GST                  52524 non-null  float64\n",
      " 14  Offline_Spend        52524 non-null  float64\n",
      " 15  Online_Spend         52524 non-null  float64\n",
      " 16  Month                52524 non-null  int64  \n",
      " 17  Coupon_Code          52524 non-null  object \n",
      " 18  Discount_pct         52524 non-null  float64\n",
      "dtypes: float64(10), int64(1), object(8)\n",
      "memory usage: 8.0+ MB\n"
     ]
    }
   ],
   "source": [
    "clean_shopping_df = clean_shopping_df.dropna(axis=0, how=\"any\")\n",
    "clean_shopping_df.info()"
   ]
  },
  {
   "cell_type": "code",
   "execution_count": 25,
   "id": "52142a72-d0ea-4d95-a6c6-55bb239b9e75",
   "metadata": {},
   "outputs": [
    {
     "data": {
      "text/plain": [
       "Product_Category\n",
       "Apparel                 18126\n",
       "Nest-USA                14013\n",
       "Office                   6513\n",
       "Drinkware                3483\n",
       "Lifestyle                3092\n",
       "Nest                     2198\n",
       "Bags                     1882\n",
       "Headgear                  771\n",
       "Notebooks & Journals      749\n",
       "Waze                      554\n",
       "Nest-Canada               317\n",
       "Bottles                   268\n",
       "Accessories               234\n",
       "Gift Cards                159\n",
       "Housewares                122\n",
       "Android                    43\n",
       "Name: count, dtype: int64"
      ]
     },
     "execution_count": 25,
     "metadata": {},
     "output_type": "execute_result"
    }
   ],
   "source": [
    "clean_shopping_df.Product_Category.value_counts()"
   ]
  },
  {
   "cell_type": "code",
   "execution_count": 26,
   "id": "de9ca3e7-dc16-41ee-a6da-309eefdac256",
   "metadata": {},
   "outputs": [
    {
     "data": {
      "text/plain": [
       "Coupon_Status\n",
       "Clicked     26720\n",
       "Used        17778\n",
       "Not Used     8026\n",
       "Name: count, dtype: int64"
      ]
     },
     "execution_count": 26,
     "metadata": {},
     "output_type": "execute_result"
    }
   ],
   "source": [
    "clean_shopping_df.Coupon_Status.value_counts()"
   ]
  },
  {
   "cell_type": "code",
   "execution_count": 27,
   "id": "b947c13b-9c37-438d-9c52-8e6f96e6df7e",
   "metadata": {},
   "outputs": [
    {
     "data": {
      "text/plain": [
       "Coupon_Code\n",
       "SALE20     6373\n",
       "SALE30     5915\n",
       "SALE10     5838\n",
       "ELEC10     4826\n",
       "ELEC30     4647\n",
       "ELEC20     4540\n",
       "EXTRA10    2317\n",
       "OFF10      2250\n",
       "EXTRA20    2211\n",
       "OFF20      2202\n",
       "OFF30      2061\n",
       "EXTRA30    2047\n",
       "NE30       1003\n",
       "NE20        740\n",
       "AIO10       654\n",
       "AIO20       618\n",
       "AIO30       610\n",
       "NE10        455\n",
       "NJ20        299\n",
       "NJ10        280\n",
       "HGEAR10     267\n",
       "HGEAR20     267\n",
       "HGEAR30     237\n",
       "WEMP20      205\n",
       "WEMP30      185\n",
       "NJ30        170\n",
       "WEMP10      164\n",
       "NCA10       116\n",
       "NCA30       110\n",
       "BT10         98\n",
       "ACC20        97\n",
       "NCA20        91\n",
       "GC10         89\n",
       "BT30         87\n",
       "BT20         83\n",
       "ACC30        77\n",
       "ACC10        60\n",
       "HOU20        50\n",
       "HOU10        42\n",
       "GC20         41\n",
       "HOU30        30\n",
       "GC30         29\n",
       "AND30        16\n",
       "AND10        14\n",
       "AND20        13\n",
       "Name: count, dtype: int64"
      ]
     },
     "execution_count": 27,
     "metadata": {},
     "output_type": "execute_result"
    }
   ],
   "source": [
    "clean_shopping_df.Coupon_Code.value_counts()"
   ]
  },
  {
   "cell_type": "code",
   "execution_count": 28,
   "id": "0d145ca1-aeba-41ad-b0f7-c13684179e7d",
   "metadata": {},
   "outputs": [
    {
     "data": {
      "text/plain": [
       "Gender\n",
       "F    32767\n",
       "M    19757\n",
       "Name: count, dtype: int64"
      ]
     },
     "execution_count": 28,
     "metadata": {},
     "output_type": "execute_result"
    }
   ],
   "source": [
    "clean_shopping_df.Gender.value_counts()"
   ]
  },
  {
   "cell_type": "code",
   "execution_count": 29,
   "id": "9fd7f668-8bf4-4246-9dca-7ec184e6e924",
   "metadata": {},
   "outputs": [
    {
     "data": {
      "text/plain": [
       "Location\n",
       "Chicago          18240\n",
       "California       16008\n",
       "New York         11097\n",
       "New Jersey        4470\n",
       "Washington DC     2709\n",
       "Name: count, dtype: int64"
      ]
     },
     "execution_count": 29,
     "metadata": {},
     "output_type": "execute_result"
    }
   ],
   "source": [
    "clean_shopping_df.Location.value_counts()"
   ]
  },
  {
   "cell_type": "code",
   "execution_count": 30,
   "id": "4ac71f78-04ca-4d69-a5f8-a9c554c18181",
   "metadata": {},
   "outputs": [
    {
     "data": {
      "text/plain": [
       "0   2019-01-01\n",
       "1   2019-01-01\n",
       "2   2019-01-01\n",
       "3   2019-01-01\n",
       "4   2019-01-01\n",
       "Name: Transaction_Date, dtype: datetime64[ns]"
      ]
     },
     "execution_count": 30,
     "metadata": {},
     "output_type": "execute_result"
    }
   ],
   "source": [
    "# convert date\n",
    "clean_shopping_df = pd.to_datetime(clean_shopping_df[\"Transaction_Date\"])\n",
    "clean_shopping_df.head()"
   ]
  },
  {
   "cell_type": "code",
   "execution_count": 31,
   "id": "89e8d2b4-b355-4de7-a779-5c645c92148a",
   "metadata": {},
   "outputs": [
    {
     "data": {
      "text/plain": [
       "52919   2019-03-10\n",
       "52920   2019-03-28\n",
       "52921   2019-10-06\n",
       "52922   2019-10-06\n",
       "52923   2019-10-06\n",
       "Name: Transaction_Date, dtype: datetime64[ns]"
      ]
     },
     "execution_count": 31,
     "metadata": {},
     "output_type": "execute_result"
    }
   ],
   "source": [
    "clean_shopping_df.tail()"
   ]
  },
  {
   "cell_type": "code",
   "execution_count": null,
   "id": "f921b239-7e26-44b1-9479-085c99f67747",
   "metadata": {},
   "outputs": [],
   "source": []
  },
  {
   "cell_type": "code",
   "execution_count": null,
   "id": "bfcf706b-e8d8-4ab0-b098-75c06e599afe",
   "metadata": {},
   "outputs": [],
   "source": []
  },
  {
   "cell_type": "code",
   "execution_count": null,
   "id": "70391bdc-ffb2-4c0e-8057-458ca684b3cd",
   "metadata": {},
   "outputs": [],
   "source": []
  },
  {
   "cell_type": "code",
   "execution_count": null,
   "id": "33c596f8-2b2a-40f4-8a0f-7cf28e1936b1",
   "metadata": {},
   "outputs": [],
   "source": []
  },
  {
   "cell_type": "code",
   "execution_count": null,
   "id": "a3872d03-4d65-4621-844d-dd221a43902b",
   "metadata": {},
   "outputs": [],
   "source": []
  },
  {
   "cell_type": "code",
   "execution_count": null,
   "id": "4e524dd3-305b-44ff-8dac-eafa42d5e4fb",
   "metadata": {},
   "outputs": [],
   "source": []
  },
  {
   "cell_type": "code",
   "execution_count": null,
   "id": "a2cf5148-ec81-4ddb-8d02-457aa9c4b6e7",
   "metadata": {},
   "outputs": [],
   "source": []
  }
 ],
 "metadata": {
  "kernelspec": {
   "display_name": "Python 3 (ipykernel)",
   "language": "python",
   "name": "python3"
  },
  "language_info": {
   "codemirror_mode": {
    "name": "ipython",
    "version": 3
   },
   "file_extension": ".py",
   "mimetype": "text/x-python",
   "name": "python",
   "nbconvert_exporter": "python",
   "pygments_lexer": "ipython3",
   "version": "3.10.14"
  }
 },
 "nbformat": 4,
 "nbformat_minor": 5
}
